{
 "cells": [
  {
   "cell_type": "code",
   "execution_count": 1,
   "metadata": {},
   "outputs": [],
   "source": [
    "#Importing libraries \n",
    "import numpy as np # linear algebra\n",
    "import pandas as pd # data processing, CSV file I/O (e.g. pd.read_csv)\n",
    "import matplotlib\n",
    "import matplotlib.pyplot as plt\n",
    "from pandas.plotting import scatter_matrix\n",
    "from sklearn.model_selection import train_test_split\n",
    "from sklearn.impute import SimpleImputer\n",
    "from sklearn.preprocessing import OneHotEncoder\n",
    "from sklearn.pipeline import Pipeline\n",
    "from sklearn.pipeline import FeatureUnion\n",
    "from sklearn.preprocessing import StandardScaler\n",
    "from sklearn.base import BaseEstimator, TransformerMixin\n",
    "from sklearn.linear_model import LinearRegression\n",
    "import os"
   ]
  },
  {
   "cell_type": "code",
   "execution_count": 2,
   "metadata": {},
   "outputs": [
    {
     "data": {
      "text/html": [
       "<div>\n",
       "<style scoped>\n",
       "    .dataframe tbody tr th:only-of-type {\n",
       "        vertical-align: middle;\n",
       "    }\n",
       "\n",
       "    .dataframe tbody tr th {\n",
       "        vertical-align: top;\n",
       "    }\n",
       "\n",
       "    .dataframe thead th {\n",
       "        text-align: right;\n",
       "    }\n",
       "</style>\n",
       "<table border=\"1\" class=\"dataframe\">\n",
       "  <thead>\n",
       "    <tr style=\"text-align: right;\">\n",
       "      <th></th>\n",
       "      <th>make</th>\n",
       "      <th>model</th>\n",
       "      <th>priceUSD</th>\n",
       "      <th>year</th>\n",
       "      <th>condition</th>\n",
       "      <th>mileage(kilometers)</th>\n",
       "      <th>fuel_type</th>\n",
       "      <th>volume(cm3)</th>\n",
       "      <th>color</th>\n",
       "      <th>drive_unit</th>\n",
       "      <th>segment</th>\n",
       "    </tr>\n",
       "  </thead>\n",
       "  <tbody>\n",
       "    <tr>\n",
       "      <th>0</th>\n",
       "      <td>datsun</td>\n",
       "      <td>mi-do</td>\n",
       "      <td>200</td>\n",
       "      <td>1980</td>\n",
       "      <td>with mileage</td>\n",
       "      <td>456799.0</td>\n",
       "      <td>petrol</td>\n",
       "      <td>1600.0</td>\n",
       "      <td>brown</td>\n",
       "      <td>front-wheel drive</td>\n",
       "      <td>NaN</td>\n",
       "    </tr>\n",
       "    <tr>\n",
       "      <th>1</th>\n",
       "      <td>gaz</td>\n",
       "      <td>24</td>\n",
       "      <td>25000</td>\n",
       "      <td>1980</td>\n",
       "      <td>with mileage</td>\n",
       "      <td>300.0</td>\n",
       "      <td>petrol</td>\n",
       "      <td>2400.0</td>\n",
       "      <td>other</td>\n",
       "      <td>rear drive</td>\n",
       "      <td>E</td>\n",
       "    </tr>\n",
       "    <tr>\n",
       "      <th>2</th>\n",
       "      <td>mazda</td>\n",
       "      <td>323f</td>\n",
       "      <td>600</td>\n",
       "      <td>1980</td>\n",
       "      <td>for parts</td>\n",
       "      <td>3444444.0</td>\n",
       "      <td>petrol</td>\n",
       "      <td>1600.0</td>\n",
       "      <td>silver</td>\n",
       "      <td>NaN</td>\n",
       "      <td>C</td>\n",
       "    </tr>\n",
       "    <tr>\n",
       "      <th>3</th>\n",
       "      <td>lada-vaz</td>\n",
       "      <td>2102</td>\n",
       "      <td>500</td>\n",
       "      <td>1980</td>\n",
       "      <td>with mileage</td>\n",
       "      <td>150000.0</td>\n",
       "      <td>petrol</td>\n",
       "      <td>1300.0</td>\n",
       "      <td>blue</td>\n",
       "      <td>rear drive</td>\n",
       "      <td>B</td>\n",
       "    </tr>\n",
       "    <tr>\n",
       "      <th>4</th>\n",
       "      <td>mercedes-benz</td>\n",
       "      <td>e-klass</td>\n",
       "      <td>1500</td>\n",
       "      <td>1980</td>\n",
       "      <td>with mileage</td>\n",
       "      <td>500000.0</td>\n",
       "      <td>diesel</td>\n",
       "      <td>2000.0</td>\n",
       "      <td>green</td>\n",
       "      <td>rear drive</td>\n",
       "      <td>E</td>\n",
       "    </tr>\n",
       "  </tbody>\n",
       "</table>\n",
       "</div>"
      ],
      "text/plain": [
       "            make    model  priceUSD  year     condition  mileage(kilometers)  \\\n",
       "0         datsun    mi-do       200  1980  with mileage             456799.0   \n",
       "1            gaz       24     25000  1980  with mileage                300.0   \n",
       "2          mazda     323f       600  1980     for parts            3444444.0   \n",
       "3       lada-vaz     2102       500  1980  with mileage             150000.0   \n",
       "4  mercedes-benz  e-klass      1500  1980  with mileage             500000.0   \n",
       "\n",
       "  fuel_type  volume(cm3)   color         drive_unit segment  \n",
       "0    petrol       1600.0   brown  front-wheel drive     NaN  \n",
       "1    petrol       2400.0   other         rear drive       E  \n",
       "2    petrol       1600.0  silver                NaN       C  \n",
       "3    petrol       1300.0    blue         rear drive       B  \n",
       "4    diesel       2000.0   green         rear drive       E  "
      ]
     },
     "execution_count": 2,
     "metadata": {},
     "output_type": "execute_result"
    }
   ],
   "source": [
    "#Importing the dataset and getting first intuitions\n",
    "cars = pd.read_csv(\"cars_predictor.csv\")\n",
    "pd.set_option('display.max_columns', 1000)\n",
    "cars.head()"
   ]
  },
  {
   "cell_type": "code",
   "execution_count": 3,
   "metadata": {},
   "outputs": [
    {
     "data": {
      "text/plain": [
       "make                      0\n",
       "model                     0\n",
       "priceUSD                  0\n",
       "year                      0\n",
       "condition                 0\n",
       "mileage(kilometers)       0\n",
       "fuel_type                 0\n",
       "volume(cm3)              30\n",
       "color                     0\n",
       "drive_unit             1327\n",
       "segment                3693\n",
       "dtype: int64"
      ]
     },
     "execution_count": 3,
     "metadata": {},
     "output_type": "execute_result"
    }
   ],
   "source": [
    "#Identifiying missing values\n",
    "missing_values = cars.isnull().sum()\n",
    "missing_values"
   ]
  },
  {
   "cell_type": "code",
   "execution_count": 4,
   "metadata": {},
   "outputs": [
    {
     "data": {
      "text/html": [
       "<div>\n",
       "<style scoped>\n",
       "    .dataframe tbody tr th:only-of-type {\n",
       "        vertical-align: middle;\n",
       "    }\n",
       "\n",
       "    .dataframe tbody tr th {\n",
       "        vertical-align: top;\n",
       "    }\n",
       "\n",
       "    .dataframe thead th {\n",
       "        text-align: right;\n",
       "    }\n",
       "</style>\n",
       "<table border=\"1\" class=\"dataframe\">\n",
       "  <thead>\n",
       "    <tr style=\"text-align: right;\">\n",
       "      <th></th>\n",
       "      <th>priceUSD</th>\n",
       "      <th>year</th>\n",
       "      <th>mileage(kilometers)</th>\n",
       "      <th>volume(cm3)</th>\n",
       "    </tr>\n",
       "  </thead>\n",
       "  <tbody>\n",
       "    <tr>\n",
       "      <th>count</th>\n",
       "      <td>39824.000000</td>\n",
       "      <td>39824.000000</td>\n",
       "      <td>3.982400e+04</td>\n",
       "      <td>39794.000000</td>\n",
       "    </tr>\n",
       "    <tr>\n",
       "      <th>mean</th>\n",
       "      <td>7449.825457</td>\n",
       "      <td>2003.637103</td>\n",
       "      <td>2.439351e+05</td>\n",
       "      <td>2103.960195</td>\n",
       "    </tr>\n",
       "    <tr>\n",
       "      <th>std</th>\n",
       "      <td>8346.286051</td>\n",
       "      <td>7.782664</td>\n",
       "      <td>3.170375e+05</td>\n",
       "      <td>940.014726</td>\n",
       "    </tr>\n",
       "    <tr>\n",
       "      <th>min</th>\n",
       "      <td>95.000000</td>\n",
       "      <td>1980.000000</td>\n",
       "      <td>0.000000e+00</td>\n",
       "      <td>500.000000</td>\n",
       "    </tr>\n",
       "    <tr>\n",
       "      <th>25%</th>\n",
       "      <td>2379.250000</td>\n",
       "      <td>1998.000000</td>\n",
       "      <td>1.380000e+05</td>\n",
       "      <td>1600.000000</td>\n",
       "    </tr>\n",
       "    <tr>\n",
       "      <th>50%</th>\n",
       "      <td>5400.000000</td>\n",
       "      <td>2004.000000</td>\n",
       "      <td>2.290080e+05</td>\n",
       "      <td>1995.000000</td>\n",
       "    </tr>\n",
       "    <tr>\n",
       "      <th>75%</th>\n",
       "      <td>9900.000000</td>\n",
       "      <td>2010.000000</td>\n",
       "      <td>3.090000e+05</td>\n",
       "      <td>2300.000000</td>\n",
       "    </tr>\n",
       "    <tr>\n",
       "      <th>max</th>\n",
       "      <td>195000.000000</td>\n",
       "      <td>2019.000000</td>\n",
       "      <td>9.999999e+06</td>\n",
       "      <td>20000.000000</td>\n",
       "    </tr>\n",
       "  </tbody>\n",
       "</table>\n",
       "</div>"
      ],
      "text/plain": [
       "            priceUSD          year  mileage(kilometers)   volume(cm3)\n",
       "count   39824.000000  39824.000000         3.982400e+04  39794.000000\n",
       "mean     7449.825457   2003.637103         2.439351e+05   2103.960195\n",
       "std      8346.286051      7.782664         3.170375e+05    940.014726\n",
       "min        95.000000   1980.000000         0.000000e+00    500.000000\n",
       "25%      2379.250000   1998.000000         1.380000e+05   1600.000000\n",
       "50%      5400.000000   2004.000000         2.290080e+05   1995.000000\n",
       "75%      9900.000000   2010.000000         3.090000e+05   2300.000000\n",
       "max    195000.000000   2019.000000         9.999999e+06  20000.000000"
      ]
     },
     "execution_count": 4,
     "metadata": {},
     "output_type": "execute_result"
    }
   ],
   "source": [
    "# check of numerical attributes\n",
    "cars.describe()"
   ]
  },
  {
   "cell_type": "code",
   "execution_count": 5,
   "metadata": {},
   "outputs": [
    {
     "name": "stdout",
     "output_type": "stream",
     "text": [
      "['make']  :  ['datsun' 'gaz' 'mazda' 'lada-vaz' 'mercedes-benz' 'eksklyuziv' 'zaz'\n",
      " 'opel' 'luaz' 'moskvich' 'audi' 'volkswagen' 'bmw' 'izh' 'fso' 'ford'\n",
      " 'uaz' 'raf' 'volvo' 'wartburg' 'honda' 'mitsubishi' 'peugeot' 'toyota'\n",
      " 'nissan' 'renault' 'jaguar' 'porsche' 'subaru' 'daihatsu' 'saab' 'fiat'\n",
      " 'chevrolet' 'isuzu' 'citroen' 'alfa-romeo' 'aro' 'rover' 'pontiac'\n",
      " 'lexus' 'seat' 'suzuki' 'hyundai' 'lancia' 'daewoo' 'kia' 'chrysler'\n",
      " 'jeep' 'skoda' 'mercury' 'lincoln' 'oldsmobile' 'land-rover' 'gmc'\n",
      " 'proton' 'acura' 'ssangyong' 'plymouth' 'cadillac' 'saturn' 'infiniti'\n",
      " 'buick' 'smart' 'tata' 'mini' 'maserati' 'scion' 'dacia' 'great-wall'\n",
      " 'shanghai-maple' 'chery' 'iran-khodro' 'bentley' 'hafei' 'geely' 'lifan'\n",
      " 'byd' 'jac' 'roewe' 'mg' 'tagaz' 'vortex' 'aston-martin' 'faw' 'tesla'\n",
      " 'zotye' 'mclaren' 'changan' 'saipa' 'bogdan' 'haval' 'ravon' 'dong-feng']\n",
      "['model']  :  ['mi-do' '24' '323f' '2102' 'e-klass' '2101' 'retro' '2106' '968' 'rekord'\n",
      " '967' '969' 's-klass' 'voennaya-tehnika' '2140' '80' 'golf' '3-seriya'\n",
      " '2105' 'sl' 'jetta' 'kadett' 'transporter' '2125' 'syrena' '412' 'passat'\n",
      " '100' 'sierra' 'santana' '469' 'ascona' '2121-niva' '2715' 'caravelle'\n",
      " 'polo' '2103' 'granada' '190-w201' '5-seriya' '2203' 'coupe' 'escort'\n",
      " '2104' '240-series' 'fiesta' '353' 'accord' '760' '7-seriya' 'galant'\n",
      " '2107' 'cosmo' '626' '505' '200' 'carina' '90' 'cherry' 'espace' 'xj'\n",
      " '323' '2108' '21' 'golf-gti' 'colt' 'scorpio' '300-series' '25'\n",
      " 'bluebird' 'orion' '309' '452' '924' 'leone' '21099' 'laurel' '11'\n",
      " 'omega' 'feroza' '9000' '2109' '31' 'pajero' '2141' '2131-niva' 'sunny'\n",
      " 'trafic' 'legend' '405' 'terrano' 'corolla' 'vectra' '1102-tavriya'\n",
      " 'regata' '9' '19' '929' 'blazer' 'redkaya-model' 'trooper' 'uno' 'lancer'\n",
      " 'tipo' '740' 'l300' 'land-cruiser' 'patrol' 'bx' '440' 'multivan'\n",
      " 'econovan' '164' 'maxima' '605' '3110' 'probe' 'baggi' 'prairie' 'civic'\n",
      " 'g-klass' 'croma' 'v8' '460' 'celica' 'avtodom' 'corrado' '600' 'tempra'\n",
      " 'firebird' 'primera' 'mb' '31029' '3909' 'sigma' 'clio' 'ls' '3000gt'\n",
      " '205' 'vanette' 'ibiza' 'malaga' 'carry' 'legacy' 'astra' 'explorer'\n",
      " 'grace' 'micra' 'toledo' '940' 'previa' 'talento' 's-coupe' 'space-wagon'\n",
      " 'pathfinder' '1302' '121' 'lantra' 'dedra' 'sonata' '4runner' '106'\n",
      " 'libero' 'vento' 'xantia' 'concerto' 'space-runner' 'carina-e' 'courier'\n",
      " 'mx-6' 'xm' 'midi' 'safrane' 'vitara' 'espero' '850' 'justy' 'xedos-6'\n",
      " 'serena' 'frontera' 'ax' 'eclipse' 'astro' 'thema' '306' 'mondeo' 'corsa'\n",
      " '75' 'sephia' 'campo' 'c-klass' '100nx' 'maverick' 'twingo' 'cordoba'\n",
      " 'voyager' 'vezdehod' 'galloper' 'monterey' 'swift' 'gs' 'le-baron'\n",
      " 'concorde' 'grand-cherokee' 'favorit' 'camry' 'punto' 's4' 'bongo'\n",
      " 'econoline' 'sable' 'cl' 'vision' 'montego' 'laguna' '806' 'protege' 'a6'\n",
      " 'delta' 'ulysse' 'taurus' 'continental' 'evasion' 'cherokee' 'accent'\n",
      " 'xedos-9' 'lite-ace' 'a4' 'sunbird' 'lhs' '88' 'forman' 'elantra' 'combo'\n",
      " 'sportage' 'mx-3' 'tigra' 'altima' 'grandeur' 'discovery' 'achieva' 'a8'\n",
      " 's6' 'hiace' '146' 'windstar' 'felicia' 'sharan' 'carisma' 'contour'\n",
      " 'brava' '406' 'almera' 'space-gear' 'neon' '400' '800' 'shuttle'\n",
      " 'stratus' 'megane' 'bravo' '145' 'jimmy' 'kappa' 'galaxy' 'persona'\n",
      " 'mark-ii' 'cirrus' 'caddy' 'impreza' 'baleno' 'nexia' 'bonneville'\n",
      " 'clarus' 'marea' 's40' 'rav4' 'scenic' 'paseo' 'vito' 'v-klass'\n",
      " 'town-car' 'musso' 'partner' 'zeta' 'ka' 'land-cruiser-prado' '900'\n",
      " 'range-rover' 'x-90' 'grand-voyager' 'pride' 'alhambra' 'v40' 'jumpy'\n",
      " 'alto' 'besta' 'scudo' '156' 'leganza' 'sintra' 'z3' 'berlingo' 'picnic'\n",
      " 'a3' 'xsara' 'santamo' 'clk' 'outback' 'forester' 'nubira' 'lanos'\n",
      " 'wagon-r' 's70' 'mirage' 'tiburon' 'millenia' 'octavia' 'cr-v' 'rapid'\n",
      " 'l200' 'gran-move' 'move' 'expert' 'tourneo-custom' 'mpv' 'gtv' 'sebring'\n",
      " 'pajero-sport' 'applause' '200sx' 'a-klass' 'v70' 'starlet' 'cinquecento'\n",
      " 'mark-vii' 'kangoo' 'shuma' 'h-1-starex' 'palio' 'avensis' 'korando'\n",
      " 'sirion' 'matiz' 'lumina' '166' '300m' 'cougar' '09-May' 'focus' 's8'\n",
      " 'slk' 'istana' '206' 's90' 'atos' 'arosa' '09-Mar' 'm-klass' 'ypsilon'\n",
      " 'grand-espace' 'eldorado' 'pregio' 'bora' 'demio' 'freelander' 'saxo'\n",
      " 'qx4' 'festiva' 'riviera' 'lupo' 'rodeo' 'c70' 's80' 'xsara-picasso'\n",
      " 'fortwo' 'zafira' 'space-star' 'multipla' 'camry-solara' 'venture'\n",
      " 'town-and-country' 'premacy' 'beetle' 'montero-sport' 'yaris' 'joice'\n",
      " 'grand-vitara' 'navara' 'hr-v' 'seicento' '2111' 'montero' 'quest' 'xc70'\n",
      " 'rx' 'carnival' '2110' 'silverado' 'lybra' 'seville' 'yaris-verso'\n",
      " 'breeze' 'lx' 'tt' '3102' 's-type' 'cavalier' '607' 'leon' 'de-ville'\n",
      " 'retona' 'fabia' '45' 'tacuma' '147' 'almera-tino' 'x5' 's60' 'spectra'\n",
      " 'delica' 'pt-cruiser' 'scenic-rx4' 'catera' 'trajet' 'carens'\n",
      " 'm-klass-amg' 'mdx' 'agila' 'avella' 'rio' 'terios' 'a6-allroad' 'optima'\n",
      " 'santa-fe' 'escape' 'vivio' 'cuore' 'corolla-verso' 'escalade' 'a2'\n",
      " 'highlander' 'c5' 'avensis-verso' 'sentra' 'm3' '307' 'rezzo' 'liana'\n",
      " 'doblo' 'pajero-pinin' 'vaneo' 'intrepid' '3111' 'matrix' 'x-trail'\n",
      " 'safari' 'xg' 'stilo' 'ignis' 'rendezvous' 'mr2' 'stream' 'xl-7'\n",
      " 'terracan' 'cooper' '2112' 'defender' 'siena' 'mystique' '6' 'envoy'\n",
      " 'transit-connect' 'c3' 'prius' 'superb' 'xterra' 'c8' 'tl' 'echo'\n",
      " 'murano' 'sorento' 'tribute' 'vivaro' 'thesis' 'trailblazer' 'vel-satis'\n",
      " 'xc90' 'avalanche' 'tahoe' 'thunderbird' 'phaeton' '807' 'sequoia'\n",
      " 'aerio' 'sl-amg' 'phedra' 'yrv' 'liberty' 'vue' 'mustang' 'albea'\n",
      " 'fusion' 'kalos' 'jazz' 'z4' 'mx-5' 'odyssey' 'sedona' 'tuscani' 'rexton'\n",
      " 'vibe' 'getz' 'touareg' '3' 'signum' 'c-max' 'tourneo-connect' 'pacifica'\n",
      " 'fx' 'cayenne' 'meriva' 'element' 'touran' 'outlander' 'primastar' 'c2'\n",
      " 'roadster' 'viano' '2' 'gx' 'baja' 'rx-8' 'rs6' 'es' 'e-klass-amg' 'ion'\n",
      " 'aztek' 'sienna' '2120-nadezhda' 'symbol' 'g' 'expedition' 'sc' 'evanda'\n",
      " 'niva' 'hunter' 'tsx' 'excursion' 'cl-amg' 'x3' '407' 'forenza' 'pointer'\n",
      " 'tucson' 'altea' 'ssr' '911' 'grand-scenic' 'rsx' 'cls' 'v50' 'grandis'\n",
      " 'c4' 'quattroporte' 'srx' 'fr-v' '1-seriya' '6-seriya' 'endeavor'\n",
      " 'forfour' 'cerato' 'streetwise' 'crossfire' 'verona' '2115' '2113'\n",
      " '31105' 'idea' 'xb' 'armada' 'uplander' 'freestyle' 'lacetti' 'qx56' 'xa'\n",
      " 'rl' 'gt' 'fox' 'golf-plus' 'equinox' 'b-klass' 'r-klass' 'm6' '5'\n",
      " 'kyron' 'rodius' 'logan' '300s' 'tc' 'lancer-evolution' 'g-klass-amg'\n",
      " 'sts' 'picanto' '1007' '2717' 'deer' 'cts' 'range-rover-sport' 'actyon'\n",
      " '9-7x' '9-2x' 'cls-amg' '107' 'note' 'patriot' 'm' 'q7' '207' 'cx-7'\n",
      " 'gl-klass' 'c81' 'c4-grand-picasso' '2206' 'antara' 'c6' 'amulet' '159'\n",
      " 'compass' 's-max' 'captiva' 'samand' 'aveo' 'kalina' 'grande-punto'\n",
      " 'ridgeline' 'aygo' 'pilot' 'commander' 'tiggo' 'versa' 'ranger' 'teana'\n",
      " 'cobalt' 'bls' 'continental-flying-spur' 'almera-classic' 'safe' 'hhr'\n",
      " 'actyon-sports' 'panda' 'sx4' 'c4-picasso' 'colorado' 'express' 'auris'\n",
      " 'lobo' 'qashqai' 'clubman' 'golf-r32' '308' 'ck' 'cx-9' 'eos' 'ceed'\n",
      " 'roomster' 'fora' 'f-350' 'hover' 'i30' 'enclave' 'f-150' 'fit'\n",
      " 'caddy-maxi' 'tundra' 'sens' 'tribeca' '1103-slavuta' 'simbo' 'suburban'\n",
      " 'rdx' 'acadia' 'edge' 'breez' 'f3' 's5' 'tiida' 'c30' 'sedici' 'x6'\n",
      " 'clio-rs' 'koleos' 'tiguan' 'mk' 'epica' 'rogue' 'ex' 'qq' 'xf'\n",
      " 'qashqai-2' 'hover-h3' 'bt-50' 'a5' 'centennial' 'c-crosser' 'q5' 'nemo'\n",
      " 'c1' 'aspen' 'insignia' 'clc' 'linea' 'materia' 'passat-cc' 'splash'\n",
      " 'refine' 'xc60' 'mariner' 'glk' 'musa' 'peri' 'i10' '500' 'scirocco' 'm5'\n",
      " 'is' 'bipper' 'fortuner' 'qq6' 'soul' 'i20' 'spark' 'kuga' 's-klass-amg'\n",
      " 'kimo' 'fc-vision' '3008' 'verso' 'x5m' 'insight' 'c3-picasso' '750' 'iq'\n",
      " 'venza' 'wrangler' 'pixo' 'forte' 'ix55' '550' 'camaro' 'tts' 'cube'\n",
      " 'cruze' 'mohave' 'yeti' '5008' 'sandero' 'hatch' 'panamera'\n",
      " 'continental-gt' 'punto-evo' 'urban-cruiser' 'qubo' 'chance' 'tager'\n",
      " 'polo-sedan' 'gran-turismo' 'equus' 'terrain' 'florid' 'volga-siber' 'x1'\n",
      " 'juke' 'duster' 'zdx' 'cr-z' 'hilux' 'fluence' 'venga' 'countryman' 'x6m'\n",
      " 'kizashi' '2363-pikap' 'asx' 'ix35' 'estina' 'a7' 'a4-allroad' 'ds3'\n",
      " 'leaf' 'savana' 'hover-h5' 'ix20' 'hs' 'giulietta' 'dbs' 'amarok' 'a1'\n",
      " 'q3' 'solaris' 'a13' 'solano' 'latitude' 'verso-s' '508' 'forza' 'trezia'\n",
      " 'range-rover-evoque' 'grand-c-max' 'tingo' 'exeo' 'ct' 'i40' 'genesis'\n",
      " 'mulsanne' 'regal' 'crosstour' 'smily' 'pick-up' '408' 'lodgy' 'mokka'\n",
      " 'xv' 'orlando' 'transit-custom' 'cx-5' 'passat-usa' 'ds4' 'equator' 'ds5'\n",
      " '208' 'ilx' 'besturn-b50' 'golf-r' 'prius-v-plus' 'volt' 'c4-aircross'\n",
      " 'gt-r' 'granta' 'alphard' 'cabrio' '350' 'voleex-c30' 'encore' 'c-elysee'\n",
      " 'dokker' '4-seriya' 'paceman' 'sc7' 'cla' '301' 'hover-m4' 'citan'\n",
      " 'gl-klass-amg' 'up' 'fusion-usa' 'largus' 'model-s' 'gentra' 'freemont'\n",
      " 'b-max' 'mkz' 'h60' '500l' 'kart' 'q70' 'quoris' 'z300' 'nv1500'\n",
      " 'emgrand-x7' 'trax' 'rs5' 'mp4-12c' 'qx60' 'qx70' 'mk-cross' '2008'\n",
      " 'qx50' 'emgrand-7' 'ecosport' 'elr' 'prius-c' 'lc-cross' 'nx' '2-seriya'\n",
      " 'cla-amg' 'grand-santa-fe' 's7' 'on-do' 'gla' 'macan' 'x4' 'a-klass-amg'\n",
      " 'cebrium' 'q50' 'wrx' 'mkc' 'qx80' 'passat-alltrack' 'captur' 'citigo'\n",
      " 'a19' 'scenic-xmod' 'glc' 'i3' '2-seriya-active-tourer' 'renegade'\n",
      " 'malibu' 'i8' 'x50' 'v60' 'gle' '2-seriya-gran-tourer' 'kadjar'\n",
      " 'gle-coupe' 'tourneo-courier' 'c4-cactus' 'f-type' 'xe' 'golf-sportsvan'\n",
      " 'cx-3' 'cs35' 'tiba' 'discovery-sport' 'arrizo-7' 'maybach' 'samodelnyj'\n",
      " 'tiggo-5' 'pulsar' '2310' 'talisman' 'gle-coupe-amg' '108' 'rs3' 'xray'\n",
      " 'h2' 'tracker' 'q30' 'rs7' 'rc' 'creta' 'vesta' 'nexia-r3' 'f-pace' 'gls'\n",
      " 'glc-coupe' 'bentayga' 'kaptur' 'v90' 'focus-st' 'd-max' 'tiggo-2' 'tlx'\n",
      " 'model-x' 'sport' 'r2' 'range-rover-velar' 'xt5' 'myway' 'levante' 'r4'\n",
      " 'x70' 'traveller' 'gla-amg' 'atlas' 'xc40' 'eclipse-cross' 'h9'\n",
      " 'teramont' 't600' 'lacrosse' 'kodiaq' 'ax7' 'e-pace' 'x7' 'x2' 'cayman'\n",
      " 'spacetourer' 'q8']\n",
      "['condition']  :  ['with mileage' 'for parts' 'with damage']\n",
      "['fuel_type']  :  ['petrol' 'diesel' 'electrocar']\n",
      "['color']  :  ['brown' 'other' 'silver' 'blue' 'green' 'yellow' 'red' 'orange' 'gray'\n",
      " 'white' 'burgundy' 'black' 'purple']\n",
      "['drive_unit']  :  ['front-wheel drive' 'rear drive' nan 'part-time four-wheel drive'\n",
      " 'all-wheel drive']\n",
      "['segment']  :  [nan 'E' 'C' 'B' 'J' 'S' 'D' 'M' 'F' 'A']\n"
     ]
    }
   ],
   "source": [
    "#checking for values of categorical attributes \n",
    "cat_val = [\"make\", \"model\", \"condition\", \"fuel_type\", \"color\",\n",
    "          \"drive_unit\",\"segment\"]\n",
    "\n",
    "for col in cat_val:\n",
    "    print ([col],\" : \",cars[col].unique())"
   ]
  },
  {
   "cell_type": "code",
   "execution_count": 6,
   "metadata": {},
   "outputs": [],
   "source": [
    "#Visualization to understand how to clean data\n",
    "# Filter bad data\n",
    "cars_c = cars.copy()"
   ]
  },
  {
   "cell_type": "code",
   "execution_count": 7,
   "metadata": {},
   "outputs": [
    {
     "data": {
      "text/plain": [
       "array([[<AxesSubplot:xlabel='priceUSD', ylabel='priceUSD'>,\n",
       "        <AxesSubplot:xlabel='year', ylabel='priceUSD'>,\n",
       "        <AxesSubplot:xlabel='mileage(kilometers)', ylabel='priceUSD'>,\n",
       "        <AxesSubplot:xlabel='volume(cm3)', ylabel='priceUSD'>],\n",
       "       [<AxesSubplot:xlabel='priceUSD', ylabel='year'>,\n",
       "        <AxesSubplot:xlabel='year', ylabel='year'>,\n",
       "        <AxesSubplot:xlabel='mileage(kilometers)', ylabel='year'>,\n",
       "        <AxesSubplot:xlabel='volume(cm3)', ylabel='year'>],\n",
       "       [<AxesSubplot:xlabel='priceUSD', ylabel='mileage(kilometers)'>,\n",
       "        <AxesSubplot:xlabel='year', ylabel='mileage(kilometers)'>,\n",
       "        <AxesSubplot:xlabel='mileage(kilometers)', ylabel='mileage(kilometers)'>,\n",
       "        <AxesSubplot:xlabel='volume(cm3)', ylabel='mileage(kilometers)'>],\n",
       "       [<AxesSubplot:xlabel='priceUSD', ylabel='volume(cm3)'>,\n",
       "        <AxesSubplot:xlabel='year', ylabel='volume(cm3)'>,\n",
       "        <AxesSubplot:xlabel='mileage(kilometers)', ylabel='volume(cm3)'>,\n",
       "        <AxesSubplot:xlabel='volume(cm3)', ylabel='volume(cm3)'>]],\n",
       "      dtype=object)"
      ]
     },
     "execution_count": 7,
     "metadata": {},
     "output_type": "execute_result"
    },
    {
     "data": {
      "image/png": "[encoded data removed]",
      "text/plain": [
       "<Figure size 864x576 with 16 Axes>"
      ]
     },
     "metadata": {
      "needs_background": "light"
     },
     "output_type": "display_data"
    }
   ],
   "source": [
    "#scattermatrix plot\n",
    "num_attributes = [\"priceUSD\", \"year\", \"mileage(kilometers)\", \"volume(cm3)\"]\n",
    "%matplotlib inline\n",
    "pd.plotting.scatter_matrix(cars_c[num_attributes], figsize = (12,8), alpha = 0.1)\n"
   ]
  },
  {
   "cell_type": "code",
   "execution_count": 8,
   "metadata": {},
   "outputs": [
    {
     "data": {
      "text/plain": [
       "<AxesSubplot:>"
      ]
     },
     "execution_count": 8,
     "metadata": {},
     "output_type": "execute_result"
    },
    {
     "data": {
      "image/png": "[encoded data removed]",
      "text/plain": [
       "<Figure size 432x288 with 1 Axes>"
      ]
     },
     "metadata": {
      "needs_background": "light"
     },
     "output_type": "display_data"
    }
   ],
   "source": [
    "#Histogram of priceUSD\n",
    "cars_c[\"priceUSD\"].hist(bins = 20, log = True)\n",
    "\n"
   ]
  },
  {
   "cell_type": "code",
   "execution_count": 9,
   "metadata": {},
   "outputs": [],
   "source": [
    "#Data Cleansing\n",
    "# Fresh copy\n",
    "cars_clean = cars.copy()\n",
    "\n",
    "# Filter bad data\n",
    "cars_clean = cars_clean[\n",
    "    (cars_clean[\"year\"].between(1980, 2019, inclusive=True)) &\n",
    "    (cars_clean[\"mileage(kilometers)\"].between(0, 10, inclusive=True)) &\n",
    "    (cars_clean[\"priceUSD\"].between(2379, 195000, inclusive=True)) \n",
    "    \n",
    "    ]\n",
    "# Replace the NaN-Values\n",
    "cars_clean['volume(cm3)'].fillna(value=2103.96, inplace=True)\n",
    "cars_clean['drive_unit'].fillna(value='front-wheel drive', inplace=True)\n",
    "cars_clean['segment'].fillna(value='J', inplace=True)\n",
    "\n"
   ]
  },
  {
   "cell_type": "code",
   "execution_count": 10,
   "metadata": {},
   "outputs": [],
   "source": [
    "# Change categorical attributes dtype to category\n",
    "\n",
    "for col in cars_clean:\n",
    "    if cars_clean[col].dtype == \"object\":\n",
    "        cars_clean[col] = cars_clean[col].astype('category')\n"
   ]
  },
  {
   "cell_type": "code",
   "execution_count": 11,
   "metadata": {},
   "outputs": [],
   "source": [
    "# Assign codes to categorical attribues instead of strings\n",
    "cat_columns = cars_clean.select_dtypes(['category']).columns\n",
    "\n",
    "cars_clean[cat_columns] = cars_clean[cat_columns].apply(lambda x: x.cat.codes)\n",
    "    "
   ]
  },
  {
   "cell_type": "code",
   "execution_count": 12,
   "metadata": {},
   "outputs": [
    {
     "data": {
      "text/html": [
       "<div>\n",
       "<style scoped>\n",
       "    .dataframe tbody tr th:only-of-type {\n",
       "        vertical-align: middle;\n",
       "    }\n",
       "\n",
       "    .dataframe tbody tr th {\n",
       "        vertical-align: top;\n",
       "    }\n",
       "\n",
       "    .dataframe thead th {\n",
       "        text-align: right;\n",
       "    }\n",
       "</style>\n",
       "<table border=\"1\" class=\"dataframe\">\n",
       "  <thead>\n",
       "    <tr style=\"text-align: right;\">\n",
       "      <th></th>\n",
       "      <th>make</th>\n",
       "      <th>model</th>\n",
       "      <th>priceUSD</th>\n",
       "      <th>year</th>\n",
       "      <th>condition</th>\n",
       "      <th>mileage(kilometers)</th>\n",
       "      <th>fuel_type</th>\n",
       "      <th>volume(cm3)</th>\n",
       "      <th>drive_unit</th>\n",
       "      <th>segment</th>\n",
       "    </tr>\n",
       "  </thead>\n",
       "  <tbody>\n",
       "    <tr>\n",
       "      <th>78</th>\n",
       "      <td>29</td>\n",
       "      <td>79</td>\n",
       "      <td>2450</td>\n",
       "      <td>1982</td>\n",
       "      <td>0</td>\n",
       "      <td>0.0</td>\n",
       "      <td>0</td>\n",
       "      <td>1600.0</td>\n",
       "      <td>3</td>\n",
       "      <td>7</td>\n",
       "    </tr>\n",
       "    <tr>\n",
       "      <th>927</th>\n",
       "      <td>29</td>\n",
       "      <td>32</td>\n",
       "      <td>2500</td>\n",
       "      <td>1987</td>\n",
       "      <td>0</td>\n",
       "      <td>1.0</td>\n",
       "      <td>1</td>\n",
       "      <td>1800.0</td>\n",
       "      <td>1</td>\n",
       "      <td>2</td>\n",
       "    </tr>\n",
       "    <tr>\n",
       "      <th>1238</th>\n",
       "      <td>11</td>\n",
       "      <td>80</td>\n",
       "      <td>2999</td>\n",
       "      <td>1988</td>\n",
       "      <td>0</td>\n",
       "      <td>10.0</td>\n",
       "      <td>0</td>\n",
       "      <td>2200.0</td>\n",
       "      <td>2</td>\n",
       "      <td>6</td>\n",
       "    </tr>\n",
       "    <tr>\n",
       "      <th>1700</th>\n",
       "      <td>0</td>\n",
       "      <td>1</td>\n",
       "      <td>2500</td>\n",
       "      <td>1990</td>\n",
       "      <td>0</td>\n",
       "      <td>0.0</td>\n",
       "      <td>1</td>\n",
       "      <td>2200.0</td>\n",
       "      <td>0</td>\n",
       "      <td>4</td>\n",
       "    </tr>\n",
       "    <tr>\n",
       "      <th>2314</th>\n",
       "      <td>19</td>\n",
       "      <td>50</td>\n",
       "      <td>4500</td>\n",
       "      <td>1991</td>\n",
       "      <td>0</td>\n",
       "      <td>1.0</td>\n",
       "      <td>1</td>\n",
       "      <td>3000.0</td>\n",
       "      <td>2</td>\n",
       "      <td>6</td>\n",
       "    </tr>\n",
       "  </tbody>\n",
       "</table>\n",
       "</div>"
      ],
      "text/plain": [
       "      make  model  priceUSD  year  condition  mileage(kilometers)  fuel_type  \\\n",
       "78      29     79      2450  1982          0                  0.0          0   \n",
       "927     29     32      2500  1987          0                  1.0          1   \n",
       "1238    11     80      2999  1988          0                 10.0          0   \n",
       "1700     0      1      2500  1990          0                  0.0          1   \n",
       "2314    19     50      4500  1991          0                  1.0          1   \n",
       "\n",
       "      volume(cm3)  drive_unit  segment  \n",
       "78         1600.0           3        7  \n",
       "927        1800.0           1        2  \n",
       "1238       2200.0           2        6  \n",
       "1700       2200.0           0        4  \n",
       "2314       3000.0           2        6  "
      ]
     },
     "execution_count": 12,
     "metadata": {},
     "output_type": "execute_result"
    }
   ],
   "source": [
    "# Drop probably unuseful columns\n",
    "\n",
    "drop_cols = [\"color\"]\n",
    "cars_clean = cars_clean.drop(drop_cols, axis=1)\n",
    "cars_clean.head()"
   ]
  },
  {
   "cell_type": "code",
   "execution_count": 13,
   "metadata": {},
   "outputs": [],
   "source": [
    "# Getting the train and test sets\n",
    "train_set, test_set = train_test_split(cars_clean, test_size = 0.2, random_state = 42)\n"
   ]
  },
  {
   "cell_type": "code",
   "execution_count": 14,
   "metadata": {},
   "outputs": [],
   "source": [
    "# Seperation of Predictors (Features) and the Labels (Targets)\n",
    "\n",
    "cars_price = train_set[\"priceUSD\"].copy()\n",
    "cars = train_set.drop(\"priceUSD\", axis=1)\n"
   ]
  },
  {
   "cell_type": "code",
   "execution_count": 15,
   "metadata": {},
   "outputs": [],
   "source": [
    "#Custom-Transformers and Pipelines\n",
    "# Create a class to select numerical or categorical columns \n",
    "\n",
    "class DFSelector(BaseEstimator, TransformerMixin):\n",
    "    def __init__(self, attribute_names):\n",
    "        self.attribute_names = attribute_names\n",
    "    def fit(self, X, y=None):\n",
    "        return self\n",
    "    def transform(self, X):\n",
    "        return X[self.attribute_names].values\n"
   ]
  },
  {
   "cell_type": "code",
   "execution_count": 16,
   "metadata": {},
   "outputs": [],
   "source": [
    "# Setting categorical and numerical attributes\n",
    "\n",
    "cat_attribs = [\"make\", \"model\", \"condition\", \"fuel_type\", \"drive_unit\", \"segment\"]\n",
    "num_attribs = list(cars.drop(cat_attribs, axis=1))\n"
   ]
  },
  {
   "cell_type": "code",
   "execution_count": 17,
   "metadata": {},
   "outputs": [],
   "source": [
    "# Building the Pipelines\n",
    "\n",
    "num_pipeline = Pipeline([\n",
    "    (\"selector\", DFSelector(num_attribs)),\n",
    "    (\"std_scaler\", StandardScaler())\n",
    "])\n",
    "\n",
    "cat_pipeline = Pipeline([\n",
    "    (\"selector\", DFSelector(cat_attribs)),\n",
    "    (\"encoder\", OneHotEncoder(sparse=True))\n",
    "])\n",
    "\n",
    "full_pipeline = FeatureUnion(transformer_list =[\n",
    "    (\"num_pipeline\", num_pipeline),\n",
    "    (\"cat_pipeline\", cat_pipeline)\n",
    "])\n",
    "\n",
    "cars_prepared = full_pipeline.fit_transform(cars_clean[:128])"
   ]
  },
  {
   "cell_type": "code",
   "execution_count": 18,
   "metadata": {},
   "outputs": [
    {
     "data": {
      "text/plain": [
       "[67900, 2999, 27480, 4000]"
      ]
     },
     "execution_count": 18,
     "metadata": {},
     "output_type": "execute_result"
    }
   ],
   "source": [
    "# Training and Comparing Models\n",
    "#LINEAR REGRESSION MODEL\n",
    "lin_reg = LinearRegression()\n",
    "lin_reg.fit(cars_prepared, cars_price)\n",
    "\n",
    "from sklearn.metrics import mean_squared_error\n",
    "cars_predictions = lin_reg.predict(cars_prepared)\n",
    "lin_mse = mean_squared_error(cars_price, cars_predictions)\n",
    "lin_rmse = np.sqrt(lin_mse)\n",
    "lin_rmse\n",
    "\n",
    "cars_predictions[0:4]\n",
    "\n",
    "list(cars_price[0:4])"
   ]
  },
  {
   "cell_type": "code",
   "execution_count": 19,
   "metadata": {},
   "outputs": [
    {
     "data": {
      "text/plain": [
       "3746.864574631034"
      ]
     },
     "execution_count": 19,
     "metadata": {},
     "output_type": "execute_result"
    }
   ],
   "source": [
    "#DECISION TREE REGRESSION MODEL\n",
    "from sklearn.tree import DecisionTreeRegressor\n",
    "tree_reg = DecisionTreeRegressor(random_state=42)\n",
    "tree_reg.fit(cars_prepared, cars_price)\n",
    "\n",
    "cars_predictions = tree_reg.predict(cars_prepared)\n",
    "tree_mse = mean_squared_error(cars_price, cars_predictions)\n",
    "tree_rmse = np.sqrt(tree_mse)\n",
    "tree_rmse"
   ]
  },
  {
   "cell_type": "code",
   "execution_count": 20,
   "metadata": {},
   "outputs": [
    {
     "data": {
      "text/plain": [
       "9565.905042598422"
      ]
     },
     "execution_count": 20,
     "metadata": {},
     "output_type": "execute_result"
    }
   ],
   "source": [
    "#RANDOM FOREST REGRESSION MODEL\n",
    "from sklearn.ensemble import RandomForestRegressor\n",
    "\n",
    "forest_reg = RandomForestRegressor(random_state=42, n_jobs =-1, max_depth = 30 )\n",
    "forest_reg.fit(cars_prepared, cars_price)\n",
    "cars_predictions = forest_reg.predict(cars_prepared)\n",
    "\n",
    "forest_mse = mean_squared_error(cars_price, cars_predictions)\n",
    "forest_rmse = np.sqrt(forest_mse)\n",
    "forest_rmse\n"
   ]
  },
  {
   "cell_type": "code",
   "execution_count": 21,
   "metadata": {},
   "outputs": [],
   "source": [
    "#Cross-Validation\n",
    "\n",
    "from sklearn.model_selection import cross_val_score\n",
    "\n",
    "def display_scores(scores):\n",
    "    \n",
    "    print(\"Scores:\", scores)\n",
    "    print(\"Mean:\", scores.mean())\n",
    "    print(\"Standard deviation:\", scores.std())"
   ]
  },
  {
   "cell_type": "code",
   "execution_count": 22,
   "metadata": {},
   "outputs": [
    {
     "name": "stdout",
     "output_type": "stream",
     "text": [
      "Scores: [29619.91957798 31401.58274443 30035.57024611 32573.61921884]\n",
      "Mean: 30907.67294683881\n",
      "Standard deviation: 1165.9969692249556\n"
     ]
    }
   ],
   "source": [
    "#LinReg - CrossValidation\n",
    "# Offline i used CV=10\n",
    "\n",
    "scores = cross_val_score(lin_reg, cars_prepared, cars_price,\n",
    "                         scoring=\"neg_mean_squared_error\", cv=4)\n",
    "lin_rmse_scores = np.sqrt(-scores)\n",
    "\n",
    "display_scores(lin_rmse_scores)"
   ]
  },
  {
   "cell_type": "code",
   "execution_count": 23,
   "metadata": {},
   "outputs": [
    {
     "name": "stdout",
     "output_type": "stream",
     "text": [
      "Scores: [24104.58316379 29828.46932986 20461.45102229 26422.75534873]\n",
      "Mean: 25204.3147161667\n",
      "Standard deviation: 3412.1682612541395\n"
     ]
    }
   ],
   "source": [
    "#DecissionTree - CrossValidation\n",
    "# Offline i used CV=10\n",
    "\n",
    "scores = cross_val_score(tree_reg, cars_prepared, cars_price,\n",
    "                         scoring=\"neg_mean_squared_error\", cv=4)\n",
    "tree_rmse_scores = np.sqrt(-scores)\n",
    "\n",
    "display_scores(tree_rmse_scores)"
   ]
  },
  {
   "cell_type": "code",
   "execution_count": 24,
   "metadata": {},
   "outputs": [
    {
     "name": "stdout",
     "output_type": "stream",
     "text": [
      "Scores: [27959.55115734 25818.25412098]\n",
      "Mean: 26888.90263915895\n",
      "Standard deviation: 1070.64851817801\n"
     ]
    }
   ],
   "source": [
    "#RandomForest - CrossValidation\n",
    "# Offline i used CV=8\n",
    "\n",
    "from sklearn.model_selection import cross_val_score\n",
    "\n",
    "scores = cross_val_score(forest_reg, cars_prepared, cars_price,\n",
    "                         scoring=\"neg_mean_squared_error\", cv=2)\n",
    "forest_rmse_scores = np.sqrt(-scores)\n",
    "\n",
    "display_scores(forest_rmse_scores)\n"
   ]
  },
  {
   "cell_type": "code",
   "execution_count": 25,
   "metadata": {},
   "outputs": [],
   "source": [
    "# Feature Importance\n",
    "\n",
    "feature_importances = forest_reg.feature_importances_\n",
    "feature_importances\n",
    "cat_encoder = cat_pipeline.named_steps[\"encoder\"]\n"
   ]
  },
  {
   "cell_type": "code",
   "execution_count": 26,
   "metadata": {},
   "outputs": [
    {
     "data": {
      "text/plain": [
       "[(0.10945778308931406, 'volume(cm3)'),\n",
       " (0.08482990959867821, 'year'),\n",
       " (0.04248472114840552, 'mileage(kilometers)')]"
      ]
     },
     "execution_count": 26,
     "metadata": {},
     "output_type": "execute_result"
    }
   ],
   "source": [
    "#cat_one_hot_attribs = list(cat_encoder.categories_[0])\n",
    "attributes = num_attribs #+ cat_encoder\n",
    "sorted(zip(feature_importances, attributes), reverse=True)\n"
   ]
  },
  {
   "cell_type": "code",
   "execution_count": 28,
   "metadata": {},
   "outputs": [],
   "source": [
    "#Final Prediction and conclusion\n",
    "\n",
    "final_model = forest_reg\n",
    "\n",
    "cars_test = test_set.drop(\"priceUSD\", axis = 1)\n",
    "cars_price_test = test_set[\"priceUSD\"].copy()\n",
    "\n",
    "\n"
   ]
  },
  {
   "cell_type": "code",
   "execution_count": 29,
   "metadata": {},
   "outputs": [],
   "source": [
    "#Evaluation how good the model fit is\n",
    "from sklearn.metrics import mean_squared_error\n",
    "\n",
    "final_error=  mean_squared_error(cars_price_test, cars_predictions[:33])\n",
    "\n",
    "final_rmse = np.sqrt(final_error)"
   ]
  },
  {
   "cell_type": "code",
   "execution_count": 30,
   "metadata": {},
   "outputs": [
    {
     "name": "stdout",
     "output_type": "stream",
     "text": [
      "536311890.2454835\n"
     ]
    }
   ],
   "source": [
    "print(final_error)"
   ]
  },
  {
   "cell_type": "code",
   "execution_count": 31,
   "metadata": {},
   "outputs": [
    {
     "name": "stdout",
     "output_type": "stream",
     "text": [
      "23158.408629383055\n"
     ]
    }
   ],
   "source": [
    "print(final_rmse)"
   ]
  }
 ],
 "metadata": {
  "kernelspec": {
   "display_name": "Python 3",
   "language": "python",
   "name": "python3"
  },
  "language_info": {
   "codemirror_mode": {
    "name": "ipython",
    "version": 3
   },
   "file_extension": ".py",
   "mimetype": "text/x-python",
   "name": "python",
   "nbconvert_exporter": "python",
   "pygments_lexer": "ipython3",
   "version": "3.7.3"
  }
 },
 "nbformat": 4,
 "nbformat_minor": 4
}
